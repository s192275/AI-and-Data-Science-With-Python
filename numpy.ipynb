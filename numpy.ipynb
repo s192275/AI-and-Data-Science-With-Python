{
 "cells": [
  {
   "cell_type": "code",
   "execution_count": 3,
   "id": "c8d305fb",
   "metadata": {},
   "outputs": [
    {
     "name": "stdout",
     "output_type": "stream",
     "text": [
      "[1 2 3 4 5]\n",
      "[[0 0 0 0]\n",
      " [0 0 0 0]\n",
      " [0 0 0 0]]\n",
      "[[1. 1. 1. 1. 1.]\n",
      " [1. 1. 1. 1. 1.]\n",
      " [1. 1. 1. 1. 1.]\n",
      " [1. 1. 1. 1. 1.]\n",
      " [1. 1. 1. 1. 1.]]\n",
      "[[3 3 3 3 3]\n",
      " [3 3 3 3 3]\n",
      " [3 3 3 3 3]]\n",
      "[ 0  3  6  9 12 15 18 21 24 27 30]\n",
      "[0.         0.05263158 0.10526316 0.15789474 0.21052632 0.26315789\n",
      " 0.31578947 0.36842105 0.42105263 0.47368421 0.52631579 0.57894737\n",
      " 0.63157895 0.68421053 0.73684211 0.78947368 0.84210526 0.89473684\n",
      " 0.94736842 1.        ]\n",
      "[[1 6 3 2]\n",
      " [1 8 4 5]\n",
      " [9 5 4 7]]\n",
      "[[ 1.52275356  8.97335954 -0.48786535  1.3111564   6.01043306  5.77087465]\n",
      " [ 0.81972014  4.23610699  7.49875781 11.38381226  4.55937533 -3.70506107]\n",
      " [12.7712491   9.03149034 -2.60316958  4.56776385  7.19281986  5.94627653]\n",
      " [ 1.32442389  5.13469828  1.79682454  9.56543531 -0.06317603  2.83495387]\n",
      " [13.66434221  5.2210934   7.1871309   0.17004543  9.69701283  7.26868933]\n",
      " [ 9.49483965  0.5200054   9.6049985   6.1692492   2.84467456  9.13959203]]\n"
     ]
    }
   ],
   "source": [
    "import numpy as np\n",
    "print(np.array([1,2,3,4,5]))\n",
    "print(np.zeros((3,4) , dtype = int))\n",
    "print(np.ones((5,5) , dtype=float))\n",
    "print(np.full((3,5) , 3 , dtype=int))\n",
    "print(np.arange(0,31,3))\n",
    "print(np.linspace(0,1,20))\n",
    "print(np.random.randint(0,10,(3,4))) #0 ile 10 arasında 3,4 lük bir array oluşturdu\n",
    "print(np.random.normal(5,5,(6,6)))"
   ]
  },
  {
   "cell_type": "code",
   "execution_count": 18,
   "id": "0fbcd548",
   "metadata": {},
   "outputs": [
    {
     "name": "stdout",
     "output_type": "stream",
     "text": [
      "2\n",
      "[[2 3 2 1 7 8 2 5 1]]\n"
     ]
    },
    {
     "data": {
      "text/plain": [
       "2"
      ]
     },
     "execution_count": 18,
     "metadata": {},
     "output_type": "execute_result"
    }
   ],
   "source": [
    "a=np.random.randint(1,9 ,(1,9))\n",
    "print(a.ndim)\n",
    "print(a.reshape(1,9))\n",
    "a.ndim"
   ]
  },
  {
   "cell_type": "code",
   "execution_count": 19,
   "id": "85bfb95c",
   "metadata": {},
   "outputs": [
    {
     "data": {
      "text/plain": [
       "1"
      ]
     },
     "execution_count": 19,
     "metadata": {},
     "output_type": "execute_result"
    }
   ],
   "source": [
    "b=np.arange(1,9)\n",
    "b.ndim"
   ]
  },
  {
   "cell_type": "code",
   "execution_count": 22,
   "id": "bf66b320",
   "metadata": {},
   "outputs": [
    {
     "data": {
      "text/plain": [
       "array([1, 2, 3, 4, 5, 6, 7, 8, 9])"
      ]
     },
     "execution_count": 22,
     "metadata": {},
     "output_type": "execute_result"
    }
   ],
   "source": [
    "x=np.array([1,2,3])\n",
    "y=np.array([4,5,6])\n",
    "np.concatenate([x,y])\n",
    "z=np.array([7,8,9])\n",
    "np.concatenate([x,y,z])"
   ]
  },
  {
   "cell_type": "code",
   "execution_count": 26,
   "id": "21aa82b8",
   "metadata": {},
   "outputs": [
    {
     "data": {
      "text/plain": [
       "array([[ 1,  2,  3],\n",
       "       [ 4,  5,  6],\n",
       "       [ 7,  8,  9],\n",
       "       [10, 11, 12]])"
      ]
     },
     "execution_count": 26,
     "metadata": {},
     "output_type": "execute_result"
    }
   ],
   "source": [
    "t=np.array([[1,2,3],\n",
    "           [4,5,6]])\n",
    "z=np.array([[7,8,9],\n",
    "           [10,11,12]])\n",
    "np.concatenate([t,z])"
   ]
  },
  {
   "cell_type": "code",
   "execution_count": null,
   "id": "697f08e3",
   "metadata": {},
   "outputs": [],
   "source": [
    "np.concatenate([x,y] )"
   ]
  },
  {
   "cell_type": "code",
   "execution_count": 27,
   "id": "897941ed",
   "metadata": {},
   "outputs": [
    {
     "data": {
      "text/plain": [
       "array([ 0,  2,  4,  6,  8, 10, 12, 14, 16, 18])"
      ]
     },
     "execution_count": 27,
     "metadata": {},
     "output_type": "execute_result"
    }
   ],
   "source": [
    "q=np.arange(0,20,2)\n",
    "np.sort(q)"
   ]
  },
  {
   "cell_type": "code",
   "execution_count": 30,
   "id": "62555662",
   "metadata": {},
   "outputs": [
    {
     "data": {
      "text/plain": [
       "array([[17.7750824 , 19.68851932, 28.15166993],\n",
       "       [12.63879615, 18.52049302, 21.04238055],\n",
       "       [ 9.21758643, 13.38240028, 18.23077631]])"
      ]
     },
     "execution_count": 30,
     "metadata": {},
     "output_type": "execute_result"
    }
   ],
   "source": [
    "m=np.random.normal(20,5 ,(3,3))\n",
    "np.sort(m, axis=1)"
   ]
  },
  {
   "cell_type": "code",
   "execution_count": 31,
   "id": "c37cedc0",
   "metadata": {},
   "outputs": [
    {
     "data": {
      "text/plain": [
       "array([[12.63879615,  9.21758643, 17.7750824 ],\n",
       "       [13.38240028, 18.52049302, 18.23077631],\n",
       "       [28.15166993, 19.68851932, 21.04238055]])"
      ]
     },
     "execution_count": 31,
     "metadata": {},
     "output_type": "execute_result"
    }
   ],
   "source": [
    "np.sort(m , axis=0)"
   ]
  },
  {
   "cell_type": "code",
   "execution_count": 37,
   "id": "955599b6",
   "metadata": {},
   "outputs": [
    {
     "data": {
      "text/plain": [
       "[array([[0, 1, 2, 3],\n",
       "        [4, 5, 6, 7]]),\n",
       " array([[ 8,  9, 10, 11],\n",
       "        [12, 13, 14, 15]])]"
      ]
     },
     "execution_count": 37,
     "metadata": {},
     "output_type": "execute_result"
    }
   ],
   "source": [
    "x=np.array([1,2,3,99,99,3,2,1])\n",
    "a,b,c=np.split(x, [3,5])\n",
    "#iki boyutlu ayırma\n",
    "m=np.arange(16).reshape(4,4)\n",
    "np.vsplit(m, [2])"
   ]
  },
  {
   "cell_type": "code",
   "execution_count": 34,
   "id": "4e47d87e",
   "metadata": {},
   "outputs": [
    {
     "data": {
      "text/plain": [
       "[array([[ 0,  1],\n",
       "        [ 4,  5],\n",
       "        [ 8,  9],\n",
       "        [12, 13]]),\n",
       " array([[ 2,  3],\n",
       "        [ 6,  7],\n",
       "        [10, 11],\n",
       "        [14, 15]])]"
      ]
     },
     "execution_count": 34,
     "metadata": {},
     "output_type": "execute_result"
    }
   ],
   "source": [
    "np.hsplit(m, [2])\n"
   ]
  },
  {
   "cell_type": "code",
   "execution_count": null,
   "id": "ada46b3b",
   "metadata": {},
   "outputs": [],
   "source": []
  }
 ],
 "metadata": {
  "kernelspec": {
   "display_name": "Python 3 (ipykernel)",
   "language": "python",
   "name": "python3"
  },
  "language_info": {
   "codemirror_mode": {
    "name": "ipython",
    "version": 3
   },
   "file_extension": ".py",
   "mimetype": "text/x-python",
   "name": "python",
   "nbconvert_exporter": "python",
   "pygments_lexer": "ipython3",
   "version": "3.9.13"
  }
 },
 "nbformat": 4,
 "nbformat_minor": 5
}
