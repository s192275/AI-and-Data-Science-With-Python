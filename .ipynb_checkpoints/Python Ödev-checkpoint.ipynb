{
 "cells": [
  {
   "cell_type": "code",
   "execution_count": 12,
   "id": "556f4246",
   "metadata": {},
   "outputs": [
    {
     "name": "stdout",
     "output_type": "stream",
     "text": [
      "Lütfen birinci koordinatı giriniz: 1 1\n",
      "Lütfen ikinci koordinatı giriniz: 2 5\n",
      "Lütfen üçüncü koordinatı giriniz:5 4\n",
      "Lütfen aramak istediğiniz noktanın koordinatını giriniz:2 3\n",
      "Girilen nokta üçgen alanının içindedir.\n"
     ]
    }
   ],
   "source": [
    "#Soru 1\n",
    "x_1, y_1 = map(float,input(\"Lütfen birinci koordinatı giriniz: \").split())\n",
    "x_2, y_2 = map(float,input(\"Lütfen ikinci koordinatı giriniz: \").split())\n",
    "x_3, y_3 = map(float,input(\"Lütfen üçüncü koordinatı giriniz:\").split())\n",
    "x_4, y_4 = map(float,input(\"Lütfen aramak istediğiniz noktanın koordinatını giriniz:\").split())\n",
    "bx = x_2-x_1     #Noktanın içinde olma formulü (Matematiksel olarak).Verilen örnekte \n",
    "by = y_2-y_1     #nokta üçgenin üzerindedir. O yüzden buna göre else çalışır.\n",
    "cx = x_3-x_1\n",
    "cy = y_3-y_1\n",
    "x = x_4-x_1\n",
    "y = y_4-y_1\n",
    "d = bx*cy-cx*by\n",
    "WA = (x*(by-cy)+y*(cx-bx)+bx*cy-cx*by)/d\n",
    "WB = (x*cy-y*cx)/d\n",
    "WC = (y*bx-x*by)/d\n",
    "\n",
    "if((0< WA < 1) and (0< WB < 1) and (0< WC < 1)):\n",
    "    print(\"Girilen nokta üçgen alanının içindedir.\")\n",
    "else:\n",
    "    print(\"Girilen nokta üçgen alanının dışındadır ya da üçgenin üzerindedir.\")"
   ]
  },
  {
   "cell_type": "code",
   "execution_count": 3,
   "id": "b470d2b5",
   "metadata": {},
   "outputs": [
    {
     "name": "stdout",
     "output_type": "stream",
     "text": [
      "Lütfen bir sayı giriniz: 31\n",
      "Girilen sayının çarpanları:\n",
      "1\n",
      "31\n"
     ]
    }
   ],
   "source": [
    "#Soru 2\n",
    "sayi = int(input(\"Lütfen bir sayı giriniz: \"))\n",
    "print(\"Girilen sayının çarpanları:\")\n",
    "for i in range(1,(sayi+1)):\n",
    "    if(sayi % i == 0):\n",
    "        print(i )"
   ]
  },
  {
   "cell_type": "code",
   "execution_count": 1,
   "id": "1324c3b4",
   "metadata": {},
   "outputs": [
    {
     "name": "stdout",
     "output_type": "stream",
     "text": [
      "Lütfen sıralamak istediğiniz dizinin boyutunu girin:5\n",
      "Diziyi girin: 9 7 5 3 1\n",
      "1.Insertion Sort\n",
      "2.Selection Sort\n",
      "3.Bubble Sort\n",
      "4.Merge Sort\n",
      "5.Quick Sort\n",
      "Lütfen işlemi seçin:1\n",
      "1.0\n",
      "3.0\n",
      "5.0\n",
      "7.0\n",
      "9.0\n"
     ]
    },
    {
     "ename": "KeyboardInterrupt",
     "evalue": "Interrupted by user",
     "output_type": "error",
     "traceback": [
      "\u001b[1;31m---------------------------------------------------------------------------\u001b[0m",
      "\u001b[1;31mKeyboardInterrupt\u001b[0m                         Traceback (most recent call last)",
      "\u001b[1;32m~\\AppData\\Local\\Temp\\ipykernel_7896\\2664369704.py\u001b[0m in \u001b[0;36m<module>\u001b[1;34m\u001b[0m\n\u001b[0;32m     78\u001b[0m     \u001b[1;32mreturn\u001b[0m \u001b[0mdizi\u001b[0m\u001b[1;33m\u001b[0m\u001b[1;33m\u001b[0m\u001b[0m\n\u001b[0;32m     79\u001b[0m \u001b[1;32mwhile\u001b[0m \u001b[1;32mTrue\u001b[0m\u001b[1;33m:\u001b[0m\u001b[1;33m\u001b[0m\u001b[1;33m\u001b[0m\u001b[0m\n\u001b[1;32m---> 80\u001b[1;33m     \u001b[0mboyut\u001b[0m \u001b[1;33m=\u001b[0m \u001b[0mint\u001b[0m\u001b[1;33m(\u001b[0m\u001b[0minput\u001b[0m\u001b[1;33m(\u001b[0m\u001b[1;34m\"Lütfen sıralamak istediğiniz dizinin boyutunu girin:\"\u001b[0m\u001b[1;33m)\u001b[0m\u001b[1;33m)\u001b[0m\u001b[1;33m\u001b[0m\u001b[1;33m\u001b[0m\u001b[0m\n\u001b[0m\u001b[0;32m     81\u001b[0m     \u001b[0mdizi\u001b[0m\u001b[1;33m=\u001b[0m\u001b[0mlist\u001b[0m\u001b[1;33m(\u001b[0m\u001b[0mmap\u001b[0m\u001b[1;33m(\u001b[0m\u001b[0mfloat\u001b[0m\u001b[1;33m,\u001b[0m\u001b[0minput\u001b[0m\u001b[1;33m(\u001b[0m\u001b[1;34m\"Diziyi girin: \"\u001b[0m\u001b[1;33m)\u001b[0m\u001b[1;33m.\u001b[0m\u001b[0mstrip\u001b[0m\u001b[1;33m(\u001b[0m\u001b[1;33m)\u001b[0m\u001b[1;33m.\u001b[0m\u001b[0msplit\u001b[0m\u001b[1;33m(\u001b[0m\u001b[1;33m)\u001b[0m\u001b[1;33m)\u001b[0m\u001b[1;33m)\u001b[0m\u001b[1;33m\u001b[0m\u001b[1;33m\u001b[0m\u001b[0m\n\u001b[0;32m     82\u001b[0m     \u001b[0mprint\u001b[0m\u001b[1;33m(\u001b[0m\u001b[1;34m\"1.Insertion Sort\"\u001b[0m\u001b[1;33m)\u001b[0m\u001b[1;33m\u001b[0m\u001b[1;33m\u001b[0m\u001b[0m\n",
      "\u001b[1;32m~\\anaconda3\\lib\\site-packages\\ipykernel\\kernelbase.py\u001b[0m in \u001b[0;36mraw_input\u001b[1;34m(self, prompt)\u001b[0m\n\u001b[0;32m   1175\u001b[0m                 \u001b[1;34m\"raw_input was called, but this frontend does not support input requests.\"\u001b[0m\u001b[1;33m\u001b[0m\u001b[1;33m\u001b[0m\u001b[0m\n\u001b[0;32m   1176\u001b[0m             )\n\u001b[1;32m-> 1177\u001b[1;33m         return self._input_request(\n\u001b[0m\u001b[0;32m   1178\u001b[0m             \u001b[0mstr\u001b[0m\u001b[1;33m(\u001b[0m\u001b[0mprompt\u001b[0m\u001b[1;33m)\u001b[0m\u001b[1;33m,\u001b[0m\u001b[1;33m\u001b[0m\u001b[1;33m\u001b[0m\u001b[0m\n\u001b[0;32m   1179\u001b[0m             \u001b[0mself\u001b[0m\u001b[1;33m.\u001b[0m\u001b[0m_parent_ident\u001b[0m\u001b[1;33m[\u001b[0m\u001b[1;34m\"shell\"\u001b[0m\u001b[1;33m]\u001b[0m\u001b[1;33m,\u001b[0m\u001b[1;33m\u001b[0m\u001b[1;33m\u001b[0m\u001b[0m\n",
      "\u001b[1;32m~\\anaconda3\\lib\\site-packages\\ipykernel\\kernelbase.py\u001b[0m in \u001b[0;36m_input_request\u001b[1;34m(self, prompt, ident, parent, password)\u001b[0m\n\u001b[0;32m   1217\u001b[0m             \u001b[1;32mexcept\u001b[0m \u001b[0mKeyboardInterrupt\u001b[0m\u001b[1;33m:\u001b[0m\u001b[1;33m\u001b[0m\u001b[1;33m\u001b[0m\u001b[0m\n\u001b[0;32m   1218\u001b[0m                 \u001b[1;31m# re-raise KeyboardInterrupt, to truncate traceback\u001b[0m\u001b[1;33m\u001b[0m\u001b[1;33m\u001b[0m\u001b[0m\n\u001b[1;32m-> 1219\u001b[1;33m                 \u001b[1;32mraise\u001b[0m \u001b[0mKeyboardInterrupt\u001b[0m\u001b[1;33m(\u001b[0m\u001b[1;34m\"Interrupted by user\"\u001b[0m\u001b[1;33m)\u001b[0m \u001b[1;32mfrom\u001b[0m \u001b[1;32mNone\u001b[0m\u001b[1;33m\u001b[0m\u001b[1;33m\u001b[0m\u001b[0m\n\u001b[0m\u001b[0;32m   1220\u001b[0m             \u001b[1;32mexcept\u001b[0m \u001b[0mException\u001b[0m\u001b[1;33m:\u001b[0m\u001b[1;33m\u001b[0m\u001b[1;33m\u001b[0m\u001b[0m\n\u001b[0;32m   1221\u001b[0m                 \u001b[0mself\u001b[0m\u001b[1;33m.\u001b[0m\u001b[0mlog\u001b[0m\u001b[1;33m.\u001b[0m\u001b[0mwarning\u001b[0m\u001b[1;33m(\u001b[0m\u001b[1;34m\"Invalid Message:\"\u001b[0m\u001b[1;33m,\u001b[0m \u001b[0mexc_info\u001b[0m\u001b[1;33m=\u001b[0m\u001b[1;32mTrue\u001b[0m\u001b[1;33m)\u001b[0m\u001b[1;33m\u001b[0m\u001b[1;33m\u001b[0m\u001b[0m\n",
      "\u001b[1;31mKeyboardInterrupt\u001b[0m: Interrupted by user"
     ]
    }
   ],
   "source": [
    "#Soru 3\n",
    "def insertionSort(dizi):\n",
    "    for i in range(1,len(dizi)):\n",
    "        key = dizi[i]\n",
    "        j = i -1\n",
    "        while (j>=0) and (dizi[j] > key):\n",
    "            dizi[j+1] = dizi[j]\n",
    "            j-=1\n",
    "        dizi[j+1] = key\n",
    "    \n",
    "    for i in range(0,len(dizi)):\n",
    "        print(dizi[i])\n",
    "\n",
    "def selectionSort(dizi):\n",
    "    for i in range(0,len(dizi)):\n",
    "        key = i\n",
    "        for j in range(i+1,len(dizi)):\n",
    "            if dizi[j] < dizi[key]:\n",
    "                key = j\n",
    "        temp = dizi[i]\n",
    "        dizi[i] = dizi[key]\n",
    "        dizi[key] = temp\n",
    "    for i in range(0,len(dizi)):\n",
    "        print(dizi[i])\n",
    "\n",
    "def bubbleSort(dizi):\n",
    "    n = len(dizi)\n",
    "    for i in range(n-1):\n",
    "        for j in range(0, n-i-1):\n",
    "            if dizi[j] > dizi[j + 1]:\n",
    "                dizi[j], dizi[j + 1] = dizi[j + 1], dizi[j]\n",
    "         \n",
    "    for i in range(n):\n",
    "        print(dizi[i])\n",
    "\n",
    "def merge(dizi1, dizi2):\n",
    "    firstPointer = 0\n",
    "    secondPointer = 0\n",
    "    mergedList = []\n",
    "    while firstPointer < len(dizi1) and secondPointer < len(dizi2):\n",
    "        if dizi1[firstPointer] < dizi2[secondPointer]:\n",
    "            mergedList.append(dizi1[firstPointer])\n",
    "            firstPointer += 1\n",
    "        if dizi2[secondPointer] < dizi1[firstPointer]:\n",
    "            mergedList.append(dizi2[secondPointer])\n",
    "            secondPointer +=1\n",
    "    while  firstPointer < len(dizi1):\n",
    "        mergedList.append(dizi1[firstPointer])\n",
    "        firstPointer +=1\n",
    "    while secondPointer < len(dizi2):\n",
    "        mergedList.append(dizi2[secondPointer])\n",
    "        secondPointer +=1\n",
    "    return mergedList\n",
    "\n",
    "def mergeSort(dizi):\n",
    "    if len(dizi) == 1:\n",
    "        return dizi\n",
    "    mid = int(len(dizi)/2)\n",
    "    right = dizi[mid:]\n",
    "    left = dizi[:mid]\n",
    "    return merge(mergeSort(left), mergeSort(right))\n",
    "def pivot(dizi, pivotIndex, endIndex):\n",
    "        swapIndex = pivotIndex\n",
    "        for i in range(pivotIndex+1, endIndex+1):\n",
    "            if dizi[i] < dizi[pivotIndex]:\n",
    "                swapIndex += 1\n",
    "                dizi[swapIndex], dizi[i] = dizi[i], dizi[swapIndex]\n",
    "        dizi[pivotIndex], dizi[swapIndex] = dizi[swapIndex], dizi[pivotIndex]\n",
    "        return swapIndex\n",
    "\n",
    "def quickSort(dizi, leftPointer = 0, rightPointer=None):\n",
    "    if rightPointer == None:\n",
    "        rightPointer = len(dizi) - 1\n",
    "    if leftPointer < rightPointer:\n",
    "        pivotIndex = pivot(dizi, leftPointer, rightPointer)\n",
    "        quickSort(dizi, leftPointer, pivotIndex-1)  \n",
    "        quickSort(dizi, pivotIndex+1, rightPointer)       \n",
    "    return dizi\n",
    "while True:\n",
    "    boyut = int(input(\"Lütfen sıralamak istediğiniz dizinin boyutunu girin:\"))\n",
    "    dizi=list(map(float,input(\"Diziyi girin: \").strip().split()))\n",
    "    print(\"1.Insertion Sort\")\n",
    "    print(\"2.Selection Sort\")\n",
    "    print(\"3.Bubble Sort\")\n",
    "    print(\"4.Merge Sort\")\n",
    "    print(\"5.Quick Sort\")\n",
    "    islem = int(input(\"Lütfen işlemi seçin:\"))\n",
    "    if islem == 1:\n",
    "        insertionSort(dizi)\n",
    "    if islem == 2:\n",
    "        selectionSort(dizi)\n",
    "    if islem == 3:\n",
    "        bubbleSort(dizi)\n",
    "    if islem == 4:\n",
    "        print(mergeSort(dizi))\n",
    "    if islem == 5:\n",
    "        print(quickSort(dizi))\n",
    "    "
   ]
  },
  {
   "cell_type": "code",
   "execution_count": 2,
   "id": "5e2ae4a6",
   "metadata": {},
   "outputs": [
    {
     "name": "stdout",
     "output_type": "stream",
     "text": [
      "Lütfen bir metin giriniz:Lorem ipsum dolor sit amet, consectetur adipiscing elit. Morbi eget lacinia augue. Fusce egestas blandit congue. Duis pellentesque, elit in onare facilitis, ante quam maximus leo, sed luctus arcu enim eu dolor. Quisque odio ipsum, congue ut erat nec, posuere bibendum tortor. Suspendisse suscipit erat lorem, et tristisque erat aliquet vitae. Nunc sed dolor at velit faucibus venenatis et vitae tortor. Integer magna enim, eleifend eget quam a, acumsan semper nisi. Pellentesque sed ullamcorper massa. Donec facilitis dapibus justo non onare. Sed faucibus commodo eusimod. Vivamus vivera sem neque, eu congue tortor finubus vel. Suspendisse nec rhoncus ipsum.\n",
      "Lütfen aranacak kelimeyi giriniz: nisi\n",
      "Kelime bulundu\n"
     ]
    }
   ],
   "source": [
    "#Soru 4:\n",
    "metin = input(\"Lütfen bir metin giriniz:\");\n",
    "kelime = input(\"Lütfen aranacak kelimeyi giriniz: \")\n",
    "if kelime in metin:\n",
    "    print(\"Kelime bulundu\")\n",
    "else:\n",
    "    print(\"Kelime bulunamadı.\")"
   ]
  },
  {
   "cell_type": "code",
   "execution_count": null,
   "id": "b73036c0",
   "metadata": {},
   "outputs": [],
   "source": [
    "#Soru 5\n",
    "#Bu sorunun geçilmesi istendi..."
   ]
  },
  {
   "cell_type": "code",
   "execution_count": 1,
   "id": "b67e139c",
   "metadata": {},
   "outputs": [
    {
     "name": "stdout",
     "output_type": "stream",
     "text": [
      "Lütfen faktöriyeli alınacak sayıyı giriniz:5\n"
     ]
    },
    {
     "data": {
      "text/plain": [
       "120"
      ]
     },
     "execution_count": 1,
     "metadata": {},
     "output_type": "execute_result"
    }
   ],
   "source": [
    "#Soru 6:\n",
    "fact = int(input(\"Lütfen faktöriyeli alınacak sayıyı giriniz:\"))\n",
    "def factorial(fact):\n",
    "    if fact == 0 or fact == 1:\n",
    "        return 1\n",
    "    else:\n",
    "        return fact * factorial(fact-1)\n",
    "factorial(fact)    "
   ]
  },
  {
   "cell_type": "code",
   "execution_count": null,
   "id": "1bf6fbed",
   "metadata": {},
   "outputs": [],
   "source": [
    "#Soru 7\n",
    "#Ne demek istenildiğini anlamadım..."
   ]
  },
  {
   "cell_type": "code",
   "execution_count": 6,
   "id": "d34cb5e6",
   "metadata": {},
   "outputs": [
    {
     "name": "stdout",
     "output_type": "stream",
     "text": [
      "[[   0    2]\n",
      " [   1    2]\n",
      " [   2    2]\n",
      " ...\n",
      " [1213    2]\n",
      " [1214    2]\n",
      " [1215    2]]\n"
     ]
    }
   ],
   "source": [
    "#Soru 8\n",
    "import cv2\n",
    "import numpy as np\n",
    "img = cv2.imread('C:/Users/s7522/Desktop/resim.jpeg')\n",
    "red = [0,0,255]\n",
    "X,Y = np.where(np.all(img==red, axis=1))\n",
    "zipped = np.column_stack((X,Y))\n",
    "print(zipped)"
   ]
  },
  {
   "cell_type": "code",
   "execution_count": 1,
   "id": "d2ad897f",
   "metadata": {},
   "outputs": [],
   "source": [
    "#Soru 9 \n",
    "from tkinter import *\n",
    "pencere = Tk()\n",
    "pencere.title(\"Kullanıcı Girişi\")\n",
    "pencere.geometry(\"300x200\")\n",
    "\n",
    "def popup():\n",
    "    isim = str(ad.get())\n",
    "    pencere2 = Tk()\n",
    "    pencere2.title(\"Merhaba\")\n",
    "    label2 = Label(pencere2,text = \"Merhaba \"+isim)\n",
    "    label2.pack()\n",
    "    pencere2.geometry(\"300x200\")\n",
    "    pencere.destroy()\n",
    "\n",
    "def giris():\n",
    "    global kul_ad,ad,buton\n",
    "    kul_ad = Label(text = \"Lütfen adınızı giriniz:\")\n",
    "    kul_ad.grid(row=0, column=0)\n",
    "    ad = Entry()\n",
    "    ad.grid(row=0, column=1)\n",
    "    buton = Button(pencere,text = \"OK\", width = 15,command = popup)\n",
    "    buton.grid(row=1,column=1)\n",
    "\n",
    "giris()\n",
    "mainloop()"
   ]
  },
  {
   "cell_type": "code",
   "execution_count": null,
   "id": "e68d11e7",
   "metadata": {},
   "outputs": [],
   "source": [
    "#Soru 10\n",
    "import matplotlib.pyplot as plt\n",
    "boy = list(map(float,input(\"Boyları girin : \").strip().split()))\n",
    "kilo = list(map(float,input(\"Kiloları girin: \").strip().split()))\n",
    "plt.xlabel(\"Boy\")\n",
    "plt.ylabel(\"Kilo\")\n",
    "plt.plot(boy,kilo)\n",
    "plt.show()"
   ]
  }
 ],
 "metadata": {
  "kernelspec": {
   "display_name": "Python 3 (ipykernel)",
   "language": "python",
   "name": "python3"
  },
  "language_info": {
   "codemirror_mode": {
    "name": "ipython",
    "version": 3
   },
   "file_extension": ".py",
   "mimetype": "text/x-python",
   "name": "python",
   "nbconvert_exporter": "python",
   "pygments_lexer": "ipython3",
   "version": "3.9.13"
  }
 },
 "nbformat": 4,
 "nbformat_minor": 5
}
